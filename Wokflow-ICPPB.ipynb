{
 "cells": [
  {
   "cell_type": "markdown",
   "metadata": {},
   "source": [
    "ICPPB 2024 Workshop:\n",
    "===\n",
    "###### (Meta)Genomics for pathogen identification\n",
    "\n",
    "Metagenome classification using custom taxonomy databases created with LINtax\n",
    "===\n",
    "###### Parul Sharma\n",
    "###### July 2024\n",
    "\n",
    "LINtax creates LIN (Life identification number) based taxonomy files for any given list of input genomes. Instead of traditional ranks, LIN-taxonomy is based on 20 thresholds/ranks of average nucleotide identity (ANI). These thresholds of similarity ranges from 70%-99.999%.\n",
    "\n",
    "Traditional taxonomy considers 'species' as the lowest rank which corresponds to approximately 95% ANI. However, with LIN-taxonomy you get much more resolution and 14 more ranks at the sub-species level which allows for accurate outbreak level detection of pathogens.\n",
    "\n",
    "In this tutorial we will cover:\n",
    "- creating a custom database with lintax\n",
    "- classifying metagenomes with Kraken2 and lintax\n",
    "\n",
    " `Ralstonia CASE STUDY` : Using LINtax to identify Select Agent Pathogen from \"infected\" plant metagenome samples \n",
    "\n",
    " \n"
   ]
  },
  {
   "cell_type": "markdown",
   "metadata": {},
   "source": [
    "We will analyze the following samples:\n",
    "- `sample0` : control \n",
    "- `sampleII` : sample with select agent pathogen\n",
    "- `sampleIV` : sample with non-select-agent but very closely related pathogen\n",
    "\n",
    "-----------\n",
    "#### Questions we are trying to answer:\n",
    "-   Can we detect the pathogen in a metagenome?\n",
    "-   Can we identify the correct strain?\n",
    "----------"
   ]
  },
  {
   "cell_type": "markdown",
   "metadata": {},
   "source": [
    "### Creating custom taxonomy with LINtax\n",
    "\n",
    "Metagenome classifiers use taxonomy to improve classifications by reducing errors due to genome similarity. All taxonomic classifiers (metagenome classifiers that use taxonomy) make use of the NCBI Taxonomy database which retains the information in 2 files:\n",
    "\n",
    "- `names.dmp` : stores all tax ranks and their names\n",
    "- `nodes.dmp` : stores all the heirarchial relations between different ranks\n",
    "\n",
    "Using LINtax, users can create this taxonomy file structure for their list of input. \n",
    "\n",
    "Example input-file looks omething like this:\n",
    "\n",
    "\n",
    "| LIN                               | Species              | Strain    | FileName                                         | Accession       |\n",
    "|-----------------------------------|----------------------|-----------|--------------------------------------------------|-----------------|\n",
    "| 14,1,0,0,0,0,0,0,0,0,6,0,1,0,1,0,0,0,0,0 | Ralstoniasolanacearum | OE1_1     | GCF_001879565.1_ASM187956v1_genomic.fna | GCF_001879565.1 |\n",
    "| 14,1,0,0,0,0,0,0,0,0,6,0,1,0,0,0,0,0,0,0 | Ralstoniasolanacearum | PSS1308   | GCF_001870805.1_ASM187080v1_genomic.fna | GCF_001870805.1 |\n",
    "| 14,1,0,0,0,0,0,0,0,0,2,1,0,0,0,0,0,0,0,0 | Ralstoniasolanacearum | FJAT_1458 | GCF_001887535.1_ASM188753v1_genomic.fna | GCF_001887535.1 |\n",
    "| 14,1,0,0,0,0,0,0,0,0,2,0,0,4,4,0,0,0,0,0 | Ralstoniasolanacearum | Pe_13     | GCF_012062595.1_ASM1206259v1_genomic.fna | GCF_012062595.1 |\n",
    "\n"
   ]
  },
  {
   "cell_type": "markdown",
   "metadata": {},
   "source": [
    "In this tutorial, we will use a pre-computed database composed of 32 Ralstonnia strains that captures the diversity of this species complex.\n",
    "\n",
    "Let's download the database:"
   ]
  },
  {
   "cell_type": "code",
   "execution_count": null,
   "metadata": {},
   "outputs": [],
   "source": [
    "%%bash \n",
    "wget -O kraken2-db.zip https://osf.io/qzfj5/download\n"
   ]
  },
  {
   "cell_type": "markdown",
   "metadata": {},
   "source": [
    "Extract the contents of the file"
   ]
  },
  {
   "cell_type": "code",
   "execution_count": 28,
   "metadata": {},
   "outputs": [],
   "source": [
    "%%bash\n",
    "unzip kraken2-db.zip\n"
   ]
  },
  {
   "cell_type": "markdown",
   "metadata": {},
   "source": [
    "Now that we have the database, lets have a look at the contents of the file:"
   ]
  },
  {
   "cell_type": "code",
   "execution_count": 2,
   "metadata": {},
   "outputs": [
    {
     "name": "stdout",
     "output_type": "stream",
     "text": [
      "hash.k2d  opts.k2d  seqid2taxid.map  taxo.k2d  taxonomy\n",
      "data.txt  names.dmp  nodes.dmp\tprelim_map.txt\n"
     ]
    }
   ],
   "source": [
    "!ls kraken2-db\n",
    "\n",
    "!ls kraken2-db/taxonomy/\n"
   ]
  },
  {
   "cell_type": "markdown",
   "metadata": {},
   "source": [
    "THe Database has sequence-to-taxnonomy mappings for our input genomes and the taxonomy folder has the nodes.dmp and the names.dmp file! \n",
    "\n",
    "With the database all ready to go, let's do the rest of the set-up."
   ]
  },
  {
   "cell_type": "markdown",
   "metadata": {},
   "source": [
    "We need 3 more things:\n",
    "- `LINgroups file` - download this file that contains all the taxonomic groups we want to identify and their corresponsding LIN prefixes\n",
    "- `lintax tool` - install lintax\n",
    "- `samples` - the 3 samples for analysis"
   ]
  },
  {
   "cell_type": "code",
   "execution_count": 29,
   "metadata": {},
   "outputs": [],
   "source": [
    "%%bash\n",
    "# install github repo\n",
    "git clone https://github.com/parul-sharma/LINtax.git\n",
    "\n",
    "# download lingroups file\n",
    "wget -O LINgroups.txt https://osf.io/download/nqms2/\n",
    "\n",
    "# download the samples (also already loaded in the github)\n",
    "\n",
    "# download Sample-0\n",
    "#wget -O Sample-0.fasta https://osf.io/r72cv/download\n",
    "\n",
    "# download Sample-II\n",
    "#wget -O Sample-II.fasta https://osf.io/xvytc/download\n",
    "\n",
    "# download Sample-IV\n",
    "#wget -O Sample-IV.fasta https://osf.io/g4krs/download\n"
   ]
  },
  {
   "cell_type": "code",
   "execution_count": null,
   "metadata": {},
   "outputs": [],
   "source": [
    "%%bash\n",
    "\n",
    "chmod -x LINtax/bin/*\n",
    "#export PATH=\"LINtax/bin:$PATH\"\n",
    "\n"
   ]
  },
  {
   "cell_type": "markdown",
   "metadata": {},
   "source": [
    "##### Lets start with sample0\n",
    "\n",
    "since we have the pre-computed database, we can directly use the 'classify' function to classify the sample (We can also directly use kraken2 commands to classify and then use lintax report to get the final report):"
   ]
  },
  {
   "cell_type": "code",
   "execution_count": 6,
   "metadata": {},
   "outputs": [
    {
     "name": "stdout",
     "output_type": "stream",
     "text": [
      "/workspaces/ICPPB2024\n",
      "\n",
      "    ----------------------------------------------------------------------------------------\n",
      "    LINtax: Create custom taxonomy for metagenome classification                        \n",
      "    ----------------------------------------------------------------------------------------        \n",
      "    Usage: lintax classify [options] <input_files>\n",
      "    Options:\n",
      "        --db                      LINtax Database to use for classifications (make sure to run build before this step) [REQUIRED]\n",
      "        --lins                    Text file containing lingroups (custom taxa) and their LIN prefixes [REQUIRED]\n",
      "        -o  or --output           LINreport containing the results [REQUIRED]\n",
      "        -h  or --help             Show usage\n",
      "        Other options:\n",
      "        -c  or --confidence       Specify the confidence threshold for kraken classification [optional]\n",
      "        --paired                  For paired-end reads\n",
      "    Example: for single reads - \n",
      "        lintax classify --db /database/ --lins linfile.txt -o sample-results.tsv <sample.fastq>\n",
      "    for paired reads - \n",
      "        lintax classify --db /database/ --lins linfile.txt -o sample-results.tsv --paired <sample_1.fastq> <sample_2.fastq>\n"
     ]
    }
   ],
   "source": [
    "%%bash\n",
    "pwd\n",
    "LINtax/bin/lintax classify -h\n"
   ]
  },
  {
   "cell_type": "code",
   "execution_count": 7,
   "metadata": {},
   "outputs": [
    {
     "name": "stderr",
     "output_type": "stream",
     "text": [
      "Loading database information... done.\n",
      "9204 sequences (37.44 Mbp) processed in 2.539s (217.5 Kseq/m, 884.81 Mbp/m).\n",
      "  0 sequences classified (0.00%)\n",
      "  9204 sequences unclassified (100.00%)\n"
     ]
    }
   ],
   "source": [
    "%%bash\n",
    "\n",
    "LINtax/bin/lintax classify --db kraken2-db --lins LINgroups.txt -o sample0.LINreport -c 0.1 Sample-0.fasta\n"
   ]
  },
  {
   "cell_type": "code",
   "execution_count": 8,
   "metadata": {},
   "outputs": [
    {
     "name": "stdout",
     "output_type": "stream",
     "text": [
      "LINgroup_Name\tLINgroup_prefix\tAssigned_reads\tPercentage_assigned_reads\tUnique_Assigned_reads\tPercentage_unique_assigned_reads\tTotal_reads_length\n",
      "A_Total_reads;B_PhylI\t14,1,0,0,0,0,0,0,0,0\t\t\t\t\t\n",
      "A_Total_reads;B_PhylI;C_seq14\t14,1,0,0,0,0,0,0,0,0,3\t\t\t\t\t\n",
      "A_Total_reads;B_PhylI;C_seq15\t14,1,0,0,0,0,0,0,0,0,2\t\t\t\t\t\n",
      "A_Total_reads;B_PhylI;C_seq34\t14,1,0,0,0,0,0,0,0,0,6\t\t\t\t\t\n",
      "A_Total_reads;B_PhylII\t14,1,0,0,0,3,0\t\t\t\t\t\n",
      "A_Total_reads;B_PhylII;C_IIA\t14,1,0,0,0,3,0,1\t\t\t\t\t\n",
      "A_Total_reads;B_PhylII;C_IIC\t14,1,0,0,0,3,0,2\t\t\t\t\t\n",
      "A_Total_reads;B_PhylII;C_IIB\t14,1,0,0,0,3,0,0\t\t\t\t\t\n",
      "A_Total_reads;B_PhylII;C_IIB;D_seq1&seq2\t14,1,0,0,0,3,0,0,0,0,1,0,0,0,0\t\t\t\t\t\n"
     ]
    }
   ],
   "source": [
    "%%bash\n",
    "\n",
    "head sample0.LINreport\n"
   ]
  },
  {
   "cell_type": "markdown",
   "metadata": {},
   "source": [
    "Try adding -c (or --confidence) option to 0.1. This equates to 10% confidence threshold and tells kraken2 to only accept those taxonomic ranks where this confidence threshold is met. [Read more about confidence thresholds] (https://github.com/DerrickWood/kraken2/wiki/Manual#confidence-scoring)\n",
    "\n",
    "For LINtax, in general, recommended confidence threshold is 0.1 for long reads and 0.3-0.4 for short reads. \n",
    "\n"
   ]
  },
  {
   "cell_type": "markdown",
   "metadata": {},
   "source": [
    "### Now let's look at `sampleII`\n",
    "\n",
    "We can run the same classify command to run sampleII with -c 0.1."
   ]
  },
  {
   "cell_type": "code",
   "execution_count": 3,
   "metadata": {},
   "outputs": [
    {
     "name": "stderr",
     "output_type": "stream",
     "text": [
      "Loading database information... done.\n",
      "9204 sequences (37.73 Mbp) processed in 3.188s (173.2 Kseq/m, 710.08 Mbp/m).\n",
      "  812 sequences classified (8.82%)\n",
      "  8392 sequences unclassified (91.18%)\n"
     ]
    }
   ],
   "source": [
    "%%bash\n",
    "\n",
    "LINtax/bin/lintax classify --db kraken2-db --lins LINgroups.txt -o sampleII.LINreport -c 0.1 Sample-II.fasta\n"
   ]
  },
  {
   "cell_type": "markdown",
   "metadata": {},
   "source": [
    "\n",
    "Let's look at the results of this sample\n",
    "\n",
    "###### using `awk '$3 != 0'` to only select for those taxa where assigned reads were more than 0. "
   ]
  },
  {
   "cell_type": "code",
   "execution_count": 4,
   "metadata": {},
   "outputs": [
    {
     "name": "stdout",
     "output_type": "stream",
     "text": [
      "LINgroup_Name\tLINgroup_prefix\tAssigned_reads\tPercentage_assigned_reads\tUnique_Assigned_reads\tPercentage_unique_assigned_reads\tTotal_reads_length\n",
      "A_Total_reads;B_PhylII\t14,1,0,0,0,3,0\t732\t90.14778325123153\t598\t73.64532019704434\t5557909\n",
      "A_Total_reads;B_PhylII;C_IIB\t14,1,0,0,0,3,0,0\t134\t16.502463054187192\t79\t9.729064039408868\t708286\n",
      "A_Total_reads;B_PhylII;C_IIB;D_seq1&seq2\t14,1,0,0,0,3,0,0,0,0,1,0,0,0,0\t16\t1.9704433497536946\t14\t1.7241379310344827\t115923\n",
      "A_Total_reads;B_PhylII;C_IIB;D_seq1&seq2;E_seq1\t14,1,0,0,0,3,0,0,0,0,1,0,0,0,0,0,0\t2\t0.24630541871921183\t2\t0.24630541871921183\t13897\n",
      "Total_reads\t\t812\t\t\t\t\n"
     ]
    }
   ],
   "source": [
    "%%bash\n",
    "\n",
    "cat sampleII.LINreport | awk '$3 != 0'\n"
   ]
  },
  {
   "cell_type": "markdown",
   "metadata": {},
   "source": [
    "We see that all assigned reads follow the same taxonomic lineage-- leading to Phylotype II sequevar1 !!! This is our infected sample with the Select Agent pathogen! "
   ]
  },
  {
   "cell_type": "markdown",
   "metadata": {},
   "source": [
    "Now let's look at sampleIV\n"
   ]
  },
  {
   "cell_type": "code",
   "execution_count": 1,
   "metadata": {},
   "outputs": [
    {
     "name": "stderr",
     "output_type": "stream",
     "text": [
      "Loading database information... done.\n",
      "9204 sequences (37.91 Mbp) processed in 3.206s (172.3 Kseq/m, 709.57 Mbp/m).\n",
      "  789 sequences classified (8.57%)\n",
      "  8415 sequences unclassified (91.43%)\n"
     ]
    }
   ],
   "source": [
    "%%bash\n",
    "\n",
    "LINtax/bin/lintax classify --db kraken2-db --lins LINgroups.txt -o sampleIV.LINreport -c 0.1 Sample-IV.fasta\n"
   ]
  },
  {
   "cell_type": "markdown",
   "metadata": {},
   "source": [
    "Looking at the result the same as above:"
   ]
  },
  {
   "cell_type": "code",
   "execution_count": 2,
   "metadata": {},
   "outputs": [
    {
     "name": "stdout",
     "output_type": "stream",
     "text": [
      "LINgroup_Name\tLINgroup_prefix\tAssigned_reads\tPercentage_assigned_reads\tUnique_Assigned_reads\tPercentage_unique_assigned_reads\tTotal_reads_length\n",
      "A_Total_reads;B_PhylIV\t14,1,0,0,0,2,0,0,0\t585\t74.1444866920152\t483\t61.21673003802282\t4654046\n",
      "A_Total_reads;B_PhylIV;C_seq10\t14,1,0,0,0,2,0,0,0,0,0,0\t102\t12.927756653992395\t74\t9.37896070975919\t680687\n",
      "Total_reads\t\t789\t\t\t\t\n"
     ]
    }
   ],
   "source": [
    "\n",
    "%%bash \n",
    "\n",
    "cat sampleIV.LINreport | awk '$3!=0'\n"
   ]
  },
  {
   "cell_type": "markdown",
   "metadata": {},
   "source": [
    "We find in this sample, all assigned reads follow the taxonomic lineage of Phylotype IV, sequevar 10 group --> This is not a Select agent pathogen. "
   ]
  },
  {
   "cell_type": "markdown",
   "metadata": {},
   "source": [
    "------------------------------------------------\n",
    "------"
   ]
  }
 ],
 "metadata": {
  "kernelspec": {
   "display_name": "Python 3",
   "language": "python",
   "name": "python3"
  },
  "language_info": {
   "codemirror_mode": {
    "name": "ipython",
    "version": 3
   },
   "file_extension": ".py",
   "mimetype": "text/x-python",
   "name": "python",
   "nbconvert_exporter": "python",
   "pygments_lexer": "ipython3",
   "version": "3.11.9"
  }
 },
 "nbformat": 4,
 "nbformat_minor": 2
}
